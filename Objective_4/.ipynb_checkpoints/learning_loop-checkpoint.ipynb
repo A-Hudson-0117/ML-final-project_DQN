{
 "cells": [
  {
   "cell_type": "code",
   "execution_count": 1,
   "id": "9ffb28fc",
   "metadata": {},
   "outputs": [],
   "source": [
    "import gym\n",
    "import numpy as np\n",
    "import torch as T\n",
    "from DQN import Agent\n",
    "\n",
    "from disc_env import DiffDriveEnv\n",
    "from utils import plotLearning"
   ]
  },
  {
   "cell_type": "code",
   "execution_count": 2,
   "id": "e61364c6",
   "metadata": {},
   "outputs": [],
   "source": [
    "save_path = \"models/\"\n",
    "save_file = \"robot_model_0.pt\""
   ]
  },
  {
   "cell_type": "code",
   "execution_count": 3,
   "id": "6b0364f3",
   "metadata": {},
   "outputs": [],
   "source": [
    "def convert_observation(dictonary):\n",
    "    observation = np.zeros(8, dtype=np.float32)\n",
    "    observation[0:3] = dictonary['agent']\n",
    "    observation[3:5] = dictonary['target']\n",
    "    observation[5:7] = dictonary['obstical']\n",
    "    observation[7] = dictonary['time']\n",
    "    return observation"
   ]
  },
  {
   "cell_type": "code",
   "execution_count": 4,
   "id": "99e92658",
   "metadata": {},
   "outputs": [],
   "source": [
    "env = DiffDriveEnv()\n",
    "env.render_mode = \"human\"\n",
    "observation, info = env.reset() "
   ]
  },
  {
   "cell_type": "code",
   "execution_count": 5,
   "id": "1c673c40",
   "metadata": {},
   "outputs": [],
   "source": [
    "#     env.render_mode = \"human\"\n",
    "agent = Agent(gamma=0.99, epsilon=1, batch_size=512, n_actions=8, eps_end=0.01,input_dims=[8], lr=0.003)"
   ]
  },
  {
   "cell_type": "code",
   "execution_count": null,
   "id": "99c6328c",
   "metadata": {},
   "outputs": [],
   "source": [
    "scores, eps_history = [], []\n",
    "n_games = 2000\n",
    "\n",
    "finished = 0\n",
    "for i in range(n_games):\n",
    "    observation = np.zeros(8, dtype=np.float32)\n",
    "    score = 0\n",
    "    done = False\n",
    "    observation, info = env.reset()     \n",
    "    observation = convert_observation(observation)\n",
    "#         for _ in range(50):\n",
    "    while not done:\n",
    "        action = agent.choose_action(observation)\n",
    "        observation_, reward, done, info, completed = env.step(action)\n",
    "        observation_ = convert_observation(observation_)\n",
    "#             score += reward \n",
    "        agent.store_transition(observation, action, reward, \n",
    "                                observation_, done)\n",
    "        agent.learn()\n",
    "        observation = observation_\n",
    "    scores.append(reward)\n",
    "    if completed: \n",
    "            finished +=1\n",
    "    eps_history.append(agent.epsilon)\n",
    "\n",
    "    avg_score = np.mean(scores[-100:])\n",
    "    if i % 50 == 0:\n",
    "        print('episode ', i, 'score %.2f' % reward,\n",
    "                'average score %.2f' % avg_score, 'completed %d' % finished,\n",
    "                'epsilon %.2f' % agent.epsilon)\n",
    "        finished = 0\n",
    "x = [i+1 for i in range(n_games)]\n",
    "filename = 'score.png'\n",
    "plotLearning(x, scores, eps_history, filename)"
   ]
  },
  {
   "cell_type": "code",
   "execution_count": null,
   "id": "05684402",
   "metadata": {},
   "outputs": [],
   "source": []
  },
  {
   "cell_type": "code",
   "execution_count": null,
   "id": "4380582b",
   "metadata": {},
   "outputs": [],
   "source": [
    "env.render_mode = \"human\"\n",
    "observation, info = env.reset() "
   ]
  },
  {
   "cell_type": "code",
   "execution_count": null,
   "id": "ddcfcae9",
   "metadata": {},
   "outputs": [],
   "source": []
  },
  {
   "cell_type": "code",
   "execution_count": null,
   "id": "fba9896a",
   "metadata": {},
   "outputs": [],
   "source": [
    "done = False\n",
    "while not done:\n",
    "    observation = convert_observation(observation)\n",
    "    action = agent.choose_action(observation)\n",
    "    observation, reward, done, info, completed = env.step(action)\n",
    "    if completed:\n",
    "        print(\"completed\")"
   ]
  },
  {
   "cell_type": "code",
   "execution_count": null,
   "id": "e432e780",
   "metadata": {},
   "outputs": [],
   "source": [
    "env.render_mode = \"human\"\n",
    "env.robot_type = \"real\"\n",
    "observation, info = env.reset()     "
   ]
  },
  {
   "cell_type": "code",
   "execution_count": null,
   "id": "79924532",
   "metadata": {},
   "outputs": [],
   "source": [
    "done = False\n",
    "while not done:\n",
    "    observation = convert_observation(observation)\n",
    "    action = agent.choose_action(observation)\n",
    "    observation, reward, done, info, completed = env.step(action)\n",
    "    if completed:\n",
    "        print(\"completed\")"
   ]
  },
  {
   "cell_type": "code",
   "execution_count": null,
   "id": "04b22206",
   "metadata": {},
   "outputs": [],
   "source": [
    "T.save(agent.state_dict(), save_path + save_file)"
   ]
  },
  {
   "cell_type": "code",
   "execution_count": null,
   "id": "94e29779",
   "metadata": {},
   "outputs": [],
   "source": [
    "agent = load_agent"
   ]
  },
  {
   "cell_type": "code",
   "execution_count": null,
   "id": "dd03cf25",
   "metadata": {},
   "outputs": [],
   "source": [
    "load_agent = Agent(gamma=0.99, epsilon=1, batch_size=512, n_actions=8, eps_end=0.01,input_dims=[6], lr=0.003)\n",
    "\n",
    "load_agent.load_state_dict(T.load(save_path + save_file))"
   ]
  },
  {
   "cell_type": "code",
   "execution_count": null,
   "id": "f7ec5cf3",
   "metadata": {},
   "outputs": [],
   "source": []
  }
 ],
 "metadata": {
  "kernelspec": {
   "display_name": "Python 3 (ipykernel)",
   "language": "python",
   "name": "python3"
  },
  "language_info": {
   "codemirror_mode": {
    "name": "ipython",
    "version": 3
   },
   "file_extension": ".py",
   "mimetype": "text/x-python",
   "name": "python",
   "nbconvert_exporter": "python",
   "pygments_lexer": "ipython3",
   "version": "3.9.13"
  },
  "vscode": {
   "interpreter": {
    "hash": "916dbcbb3f70747c44a77c7bcd40155683ae19c65e1c03b4aa3499c5328201f1"
   }
  }
 },
 "nbformat": 4,
 "nbformat_minor": 5
}
