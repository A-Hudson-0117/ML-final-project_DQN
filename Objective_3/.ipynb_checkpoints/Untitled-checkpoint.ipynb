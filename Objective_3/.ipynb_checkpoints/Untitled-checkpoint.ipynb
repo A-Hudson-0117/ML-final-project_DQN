{
 "cells": [
  {
   "cell_type": "code",
   "execution_count": 1,
   "id": "33a68e68",
   "metadata": {},
   "outputs": [],
   "source": [
    "import gym\n",
    "import numpy as np\n",
    "from DQN import Agent\n",
    "from disc_env import DiffDriveEnv\n",
    "from utils import plotLearning\n",
    "\n",
    "\n",
    "def convert_observation(dictonary):\n",
    "    observation = np.zeros(6, dtype=np.float32)\n",
    "    observation[0:5] = np.concatenate([dictonary['agent'], \n",
    "                                       dictonary['target']])\n",
    "    observation[5] = dictonary['time']\n",
    "    return observation\n",
    "  \n",
    "env = DiffDriveEnv()"
   ]
  },
  {
   "cell_type": "code",
   "execution_count": 34,
   "id": "32d05b9f",
   "metadata": {},
   "outputs": [],
   "source": [
    "env.action_space\n",
    "env.render_mode = \"human\"\n",
    "env.reset();"
   ]
  },
  {
   "cell_type": "code",
   "execution_count": 68,
   "id": "d49a2157",
   "metadata": {},
   "outputs": [
    {
     "name": "stdout",
     "output_type": "stream",
     "text": [
      "error = 8.44098453984708\n"
     ]
    },
    {
     "data": {
      "text/plain": [
       "({'agent': array([ 0.38492063, -1.2436806 ,  2.038714  ], dtype=float32),\n",
       "  'target': array([-0.6257094 ,  0.18629129], dtype=float32),\n",
       "  'time': 12},\n",
       " -3.0878968086502843,\n",
       " False,\n",
       " {'distance': 2.4406018})"
      ]
     },
     "execution_count": 68,
     "metadata": {},
     "output_type": "execute_result"
    }
   ],
   "source": [
    "\n",
    "env.step(7)\n"
   ]
  },
  {
   "cell_type": "code",
   "execution_count": 4,
   "id": "5bdf93fe",
   "metadata": {},
   "outputs": [
    {
     "name": "stdout",
     "output_type": "stream",
     "text": [
      "error = -92.32106726588142\n"
     ]
    },
    {
     "data": {
      "text/plain": [
       "({'agent': array([-0.10807551, -0.82044494,  0.55532986], dtype=float32),\n",
       "  'target': array([ 0.5468868, -1.9782288], dtype=float32),\n",
       "  'time': 1},\n",
       " -4.365748032091807,\n",
       " False,\n",
       " {'distance': 1.8127462})"
      ]
     },
     "execution_count": 4,
     "metadata": {},
     "output_type": "execute_result"
    }
   ],
   "source": [
    "env.step(1)"
   ]
  },
  {
   "cell_type": "code",
   "execution_count": null,
   "id": "a0312eae",
   "metadata": {},
   "outputs": [],
   "source": []
  },
  {
   "cell_type": "code",
   "execution_count": null,
   "id": "47c7c62d",
   "metadata": {},
   "outputs": [],
   "source": []
  }
 ],
 "metadata": {
  "kernelspec": {
   "display_name": "Python 3 (ipykernel)",
   "language": "python",
   "name": "python3"
  },
  "language_info": {
   "codemirror_mode": {
    "name": "ipython",
    "version": 3
   },
   "file_extension": ".py",
   "mimetype": "text/x-python",
   "name": "python",
   "nbconvert_exporter": "python",
   "pygments_lexer": "ipython3",
   "version": "3.9.13"
  }
 },
 "nbformat": 4,
 "nbformat_minor": 5
}
