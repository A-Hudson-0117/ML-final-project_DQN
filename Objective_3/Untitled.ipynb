{
 "cells": [
  {
   "cell_type": "code",
   "execution_count": 1,
   "id": "33a68e68",
   "metadata": {},
   "outputs": [],
   "source": [
    "import gym\n",
    "import numpy as np\n",
    "from DQN import Agent\n",
    "from disc_env import DiffDriveEnv\n",
    "from utils import plotLearning\n",
    "\n",
    "\n",
    "def convert_observation(dictonary):\n",
    "    observation = np.zeros(6, dtype=np.float32)\n",
    "    observation[0:5] = np.concatenate([dictonary['agent'], \n",
    "                                       dictonary['target']])\n",
    "    observation[5] = dictonary['time']\n",
    "    return observation\n",
    "  \n",
    "env = DiffDriveEnv()"
   ]
  },
  {
   "cell_type": "code",
   "execution_count": 98,
   "id": "32d05b9f",
   "metadata": {},
   "outputs": [],
   "source": [
    "env.action_space\n",
    "env.render_mode = \"human\"\n",
    "env.reset();"
   ]
  },
  {
   "cell_type": "code",
   "execution_count": 104,
   "id": "d49a2157",
   "metadata": {},
   "outputs": [
    {
     "name": "stdout",
     "output_type": "stream",
     "text": [
      "40.32600834270439\n"
     ]
    },
    {
     "data": {
      "text/plain": [
       "({'agent': array([-1.7522925 ,  0.14846723,  0.6192961 ], dtype=float32),\n",
       "  'target': array([0., 0.]),\n",
       "  'time': 42},\n",
       " -3.142108059066139,\n",
       " False,\n",
       " {'distance': 1.9007597416639328},\n",
       " False)"
      ]
     },
     "execution_count": 104,
     "metadata": {},
     "output_type": "execute_result"
    }
   ],
   "source": [
    "env.step(7)"
   ]
  },
  {
   "cell_type": "code",
   "execution_count": 61,
   "id": "5bdf93fe",
   "metadata": {},
   "outputs": [
    {
     "name": "stdout",
     "output_type": "stream",
     "text": [
      "0.00032943015781053875\n"
     ]
    },
    {
     "data": {
      "text/plain": [
       "({'agent': array([ 0.42570066, -0.8096686 ,  2.0548537 ], dtype=float32),\n",
       "  'target': array([0., 0.]),\n",
       "  'time': 8},\n",
       " -0.8367842985078493,\n",
       " False,\n",
       " {'distance': 1.2353692650794983},\n",
       " False)"
      ]
     },
     "execution_count": 61,
     "metadata": {},
     "output_type": "execute_result"
    }
   ],
   "source": [
    "env.step(1)"
   ]
  },
  {
   "cell_type": "code",
   "execution_count": null,
   "id": "a0312eae",
   "metadata": {},
   "outputs": [],
   "source": []
  },
  {
   "cell_type": "code",
   "execution_count": null,
   "id": "47c7c62d",
   "metadata": {},
   "outputs": [],
   "source": []
  }
 ],
 "metadata": {
  "kernelspec": {
   "display_name": "Python 3 (ipykernel)",
   "language": "python",
   "name": "python3"
  },
  "language_info": {
   "codemirror_mode": {
    "name": "ipython",
    "version": 3
   },
   "file_extension": ".py",
   "mimetype": "text/x-python",
   "name": "python",
   "nbconvert_exporter": "python",
   "pygments_lexer": "ipython3",
   "version": "3.9.13"
  }
 },
 "nbformat": 4,
 "nbformat_minor": 5
}
